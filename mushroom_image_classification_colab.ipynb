{
  "nbformat": 4,
  "nbformat_minor": 0,
  "metadata": {
    "colab": {
      "provenance": [],
      "gpuType": "T4"
    },
    "kernelspec": {
      "name": "python3",
      "display_name": "Python 3"
    },
    "language_info": {
      "name": "python"
    },
    "accelerator": "GPU"
  },
  "cells": [
    {
      "cell_type": "code",
      "execution_count": 1,
      "metadata": {
        "colab": {
          "base_uri": "https://localhost:8080/"
        },
        "id": "HoVmpvqzR9Mq",
        "outputId": "7b34e773-cfb5-4ac9-ca6d-91d0e8261977"
      },
      "outputs": [
        {
          "output_type": "stream",
          "name": "stdout",
          "text": [
            "Warning: Looks like you're using an outdated `kagglehub` version (installed: 0.3.6), please consider upgrading to the latest version (0.3.7).\n",
            "Downloading from https://www.kaggle.com/api/v1/datasets/download/daniilonishchenko/mushrooms-images-classification-215?dataset_version_number=2...\n"
          ]
        },
        {
          "output_type": "stream",
          "name": "stderr",
          "text": [
            "100%|██████████| 1.55G/1.55G [01:17<00:00, 21.4MB/s]"
          ]
        },
        {
          "output_type": "stream",
          "name": "stdout",
          "text": [
            "Extracting files...\n"
          ]
        },
        {
          "output_type": "stream",
          "name": "stderr",
          "text": [
            "\n"
          ]
        },
        {
          "output_type": "stream",
          "name": "stdout",
          "text": [
            "Path to dataset files: /root/.cache/kagglehub/datasets/daniilonishchenko/mushrooms-images-classification-215/versions/2\n"
          ]
        }
      ],
      "source": [
        "import kagglehub\n",
        "\n",
        "# Download latest version\n",
        "path = kagglehub.dataset_download(\"daniilonishchenko/mushrooms-images-classification-215\")\n",
        "\n",
        "print(\"Path to dataset files:\", path)\n"
      ]
    },
    {
      "cell_type": "code",
      "source": [
        "import os\n",
        "import shutil\n",
        "\n",
        "# Construct the path to the \"data\" folder\n",
        "data_dir = os.path.join(path, \"data\")\n",
        "\n",
        "# Create destination directory if it doesn't exist\n",
        "os.makedirs(\"mushrooms\", exist_ok=True)\n",
        "\n",
        "# Iterate through files in the \"data\" folder\n",
        "for filename in os.listdir(data_dir):\n",
        "    source_path = os.path.join(data_dir, filename)\n",
        "    destination_path = os.path.join(\"mushrooms\", filename)\n",
        "\n",
        "    # Copy files and directories recursively\n",
        "    if os.path.isfile(source_path):\n",
        "        shutil.copy(source_path, destination_path)\n",
        "    elif os.path.isdir(source_path):\n",
        "        shutil.copytree(source_path, destination_path, dirs_exist_ok=True)"
      ],
      "metadata": {
        "id": "MGVdGFx_TPlT"
      },
      "execution_count": 14,
      "outputs": []
    },
    {
      "cell_type": "code",
      "source": [
        "import tensorflow as tf\n",
        "from tensorflow import keras\n",
        "from keras import Sequential\n",
        "from keras.layers import Dense, Conv2D, MaxPooling2D, Flatten, BatchNormalization, Dropout\n"
      ],
      "metadata": {
        "id": "nyBy4b2chVnZ"
      },
      "execution_count": 16,
      "outputs": []
    },
    {
      "cell_type": "code",
      "source": [
        "# creating generators\n",
        "mushroom_ds = keras.utils.image_dataset_from_directory(\n",
        "    directory = \"/content/mushrooms/data\",\n",
        "    labels=\"inferred\",\n",
        "    label_mode=\"int\",\n",
        "    batch_size=32,\n",
        "    image_size=(256, 256),\n",
        ")"
      ],
      "metadata": {
        "colab": {
          "base_uri": "https://localhost:8080/"
        },
        "id": "L7r42chQhX2X",
        "outputId": "15c93e59-d1be-4e22-870f-979dd48a1165"
      },
      "execution_count": 17,
      "outputs": [
        {
          "output_type": "stream",
          "name": "stdout",
          "text": [
            "Found 3122 files belonging to 215 classes.\n"
          ]
        }
      ]
    }
  ]
}